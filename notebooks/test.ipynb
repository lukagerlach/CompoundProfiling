{
 "cells": [
  {
   "cell_type": "code",
   "execution_count": 2,
   "id": "5bb4ec35",
   "metadata": {},
   "outputs": [
    {
     "data": {
      "text/plain": [
       "(1.0, 0.0, 0.12634674, 0.11499174)"
      ]
     },
     "execution_count": 2,
     "metadata": {},
     "output_type": "execute_result"
    }
   ],
   "source": [
    "from pybbbc import BBBC021\n",
    "import pandas as pd\n",
    "\n",
    "pybbbc = BBBC021(root_path=\"/scratch/cv-course2025/group8\")\n",
    "img, meta = pybbbc[0]\n",
    "img.max(), img.min(), img.mean(), img.std()"
   ]
  },
  {
   "cell_type": "code",
   "execution_count": 3,
   "id": "c93b6491",
   "metadata": {},
   "outputs": [
    {
     "data": {
      "text/plain": [
       "tensor([3.8700e+01, 3.3134e-01, 3.0477e-01,  ..., 2.5407e+00, 2.4376e-02,\n",
       "        2.5961e+01])"
      ]
     },
     "execution_count": 3,
     "metadata": {},
     "output_type": "execute_result"
    }
   ],
   "source": [
    "import pandas as pd\n",
    "\n",
    "df = pd.read_pickle('/scratch/cv-course2025/group8/bbbc021_features/simclr/taxol_3.0.pkl')\n",
    "df[1]"
   ]
  }
 ],
 "metadata": {
  "kernelspec": {
   "display_name": "venv",
   "language": "python",
   "name": "python3"
  },
  "language_info": {
   "codemirror_mode": {
    "name": "ipython",
    "version": 3
   },
   "file_extension": ".py",
   "mimetype": "text/x-python",
   "name": "python",
   "nbconvert_exporter": "python",
   "pygments_lexer": "ipython3",
   "version": "3.9.18"
  }
 },
 "nbformat": 4,
 "nbformat_minor": 5
}
